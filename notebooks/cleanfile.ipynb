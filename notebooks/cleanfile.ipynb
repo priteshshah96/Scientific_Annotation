{
 "cells": [
  {
   "cell_type": "code",
   "execution_count": 2,
   "metadata": {},
   "outputs": [
    {
     "name": "stdout",
     "output_type": "stream",
     "text": [
      "Renamed: annotation08_annotated.json -> annotation08.json\n",
      "Renamed: annotation03_annotated.json -> annotation03.json\n",
      "Renamed: annotation05_annotated.json -> annotation05.json\n",
      "Renamed: annotation10_annotated.json -> annotation10.json\n",
      "Renamed: annotation09_annotated.json -> annotation09.json\n",
      "Renamed: DH_annotation_23_3_annotated.json -> DH_annotation_23_3.json\n",
      "Renamed: DH_annotation_23_1_annotated.json -> DH_annotation_23_1.json\n",
      "Renamed: annotation01_annotated.json -> annotation01.json\n",
      "Renamed: annotation02_annotated.json -> annotation02.json\n",
      "Renamed: annotation04_annotated.json -> annotation04.json\n",
      "Renamed: DH_annotation_23_2_annotated.json -> DH_annotation_23_2.json\n",
      "Renamed: DH_annotation_23_4_annotated.json -> DH_annotation_23_4.json\n",
      "Renamed: DH_annotation_23_5_annotated.json -> DH_annotation_23_5.json\n",
      "Renamed: annotation06_annotated.json -> annotation06.json\n",
      "Renamed: annotation07_annotated.json -> annotation07.json\n"
     ]
    }
   ],
   "source": [
    "import os\n",
    "from pathlib import Path\n",
    "\n",
    "def clean_filenames(directory_path):\n",
    "    # Convert string path to Path object\n",
    "    dir_path = Path(directory_path)\n",
    "    \n",
    "    # Process each file in directory\n",
    "    for file_path in dir_path.glob('*.json'):\n",
    "        old_name = file_path.name\n",
    "        \n",
    "        # Remove 'Sumedh_' and '_annotated'\n",
    "        new_name = old_name.replace('Sumedh_', '')\n",
    "        new_name = new_name.replace('_annotated', '')\n",
    "        \n",
    "        # Construct new file path\n",
    "        new_path = file_path.parent / new_name\n",
    "        \n",
    "        # Rename file\n",
    "        try:\n",
    "            file_path.rename(new_path)\n",
    "            print(f'Renamed: {old_name} -> {new_name}')\n",
    "        except Exception as e:\n",
    "            print(f'Error renaming {old_name}: {str(e)}')\n",
    "\n",
    "if __name__ == \"__main__\":\n",
    "    # Replace with your directory path\n",
    "    directory = \"/home/shahprit/Scientific_Annotation/data/annotated/Tiya\"  # or full path to your directory\n",
    "    clean_filenames(directory)"
   ]
  },
  {
   "cell_type": "code",
   "execution_count": null,
   "metadata": {},
   "outputs": [],
   "source": []
  }
 ],
 "metadata": {
  "kernelspec": {
   "display_name": "llm_env",
   "language": "python",
   "name": "llm_env"
  },
  "language_info": {
   "codemirror_mode": {
    "name": "ipython",
    "version": 3
   },
   "file_extension": ".py",
   "mimetype": "text/x-python",
   "name": "python",
   "nbconvert_exporter": "python",
   "pygments_lexer": "ipython3",
   "version": "3.11.11"
  }
 },
 "nbformat": 4,
 "nbformat_minor": 2
}
